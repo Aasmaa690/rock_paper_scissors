{
 "cells": [
  {
   "cell_type": "code",
   "execution_count": null,
   "metadata": {},
   "outputs": [],
   "source": [
    "def game() :\n",
    "# this is the heart of the game \n",
    "\n",
    "    while True:\n",
    "    # to keep the game running \n",
    "        x = input ('Please choose a tool to play ')\n",
    "        # to assign a value to the input \n",
    "        y = 0 \n",
    "        if x == 'rock':\n",
    "            y= 1\n",
    "        elif x =='paper':\n",
    "            y = 2\n",
    "        elif x == 'scissors ':\n",
    "            y = 3\n",
    "        # to assagin a value to the words \n",
    "        else:\n",
    "            print ('this is an invalid choise  please try again')\n",
    "            break\n",
    "    \n",
    "    \n",
    "        import random \n",
    "        w=int (random.randint(1,3))\n",
    "        # to make the computer choose a value \n",
    "\n",
    "        if w == 1:\n",
    "            print (' The computer chose rock'.format())\n",
    "        elif w == 2 :\n",
    "            print ('the computer chose paper'.format())\n",
    "        elif w == 3:\n",
    "            print ('the computer chose scissors'.format())\n",
    "        # to print the statements \n",
    "        \n",
    "    \n",
    "    \n",
    "        if y == w :\n",
    "            print ('there is no winner ')\n",
    "            break\n",
    "        elif y == 1 and w== 2 :\n",
    "            print ('you lose , good  luck next time ')\n",
    "            break\n",
    "        elif y == 1 and w == 3 :\n",
    "            print ('you win , congratulations ')\n",
    "            break\n",
    "    \n",
    "        else:\n",
    "            break\n",
    "        # to print the results \n",
    "\n",
    "    \n",
    "i=0 \n",
    "while i < 3:\n",
    "    w = input ('Do you want to play? ')\n",
    "    if w =='yes':\n",
    "        game()\n",
    "        i = i+1\n",
    "        # to end the game after three rounds\n",
    "    elif w == 'no' : \n",
    "        print ('may be next time')    \n",
    "        i = i+5\n",
    "        # i = 5 to break out of the loop and end the game \n",
    "    else  : \n",
    "        print ('this is an invalid input please try again')    \n",
    "        i = i+1\n",
    " # to start an end the game   "
   ]
  },
  {
   "cell_type": "code",
   "execution_count": null,
   "metadata": {
    "collapsed": true
   },
   "outputs": [],
   "source": []
  }
 ],
 "metadata": {
  "kernelspec": {
   "display_name": "Python 3",
   "language": "python",
   "name": "python3"
  },
  "language_info": {
   "codemirror_mode": {
    "name": "ipython",
    "version": 3
   },
   "file_extension": ".py",
   "mimetype": "text/x-python",
   "name": "python",
   "nbconvert_exporter": "python",
   "pygments_lexer": "ipython3",
   "version": "3.6.1"
  }
 },
 "nbformat": 4,
 "nbformat_minor": 2
}
